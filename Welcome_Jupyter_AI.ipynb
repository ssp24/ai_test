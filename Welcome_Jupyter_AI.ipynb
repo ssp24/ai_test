{
 "cells": [
  {
   "cell_type": "markdown",
   "id": "4e2d5e0f-a70b-403a-833f-727bf24a5ba0",
   "metadata": {},
   "source": [
    "## DNBLab-Binder-Umgebung jetzt mit Jupyter-AI\n",
    "\n",
    "### Erste Schritte"
   ]
  },
  {
   "cell_type": "markdown",
   "id": "4588f9b5-f7c5-4261-9baa-25ea8cd313d6",
   "metadata": {},
   "source": [
    "Sie können Jupyter-AI in unserer Umgebung und unseren Notebooks auf zwei Arten nutzen: \n",
    "- Mit Hilfe des Chat-Fenster in der linken Seitenleiste\n",
    "- Direkt in den verschiedenen Notebooks durch Nutzung der Jupyter-AI magic commands."
   ]
  },
  {
   "cell_type": "code",
   "execution_count": 3,
   "id": "4b53990f-a0fe-4be2-97f0-b4530b4e41b3",
   "metadata": {},
   "outputs": [],
   "source": [
    "%load_ext jupyter_ai_magics"
   ]
  },
  {
   "cell_type": "code",
   "execution_count": 5,
   "id": "d6881000-bc7b-4526-827c-dc99c101d022",
   "metadata": {},
   "outputs": [
    {
     "data": {
      "text/markdown": [
       "Cannot determine model provider from model ID `openai:chat-gpt-4`.\n",
       "\n",
       "To see a list of models you can use, run `%ai list`\n",
       "\n",
       "If you were trying to run a command, run `%ai help` to see a list of commands."
      ],
      "text/plain": [
       "Cannot determine model provider from model ID 'openai:chat-gpt-4'.\n",
       "\n",
       "To see a list of models you can use, run '%ai list'\n",
       "\n",
       "If you were trying to run a command, run '%ai help' to see a list of commands."
      ]
     },
     "execution_count": 5,
     "metadata": {},
     "output_type": "execute_result"
    }
   ],
   "source": [
    "%%ai openai:chat-gpt-4\n",
    "Are you there? "
   ]
  },
  {
   "cell_type": "code",
   "execution_count": null,
   "id": "7cc9fb3b-899e-4688-9b79-60fdbda3426c",
   "metadata": {},
   "outputs": [],
   "source": []
  }
 ],
 "metadata": {
  "kernelspec": {
   "display_name": "Python 3 (ipykernel)",
   "language": "python",
   "name": "python3"
  },
  "language_info": {
   "codemirror_mode": {
    "name": "ipython",
    "version": 3
   },
   "file_extension": ".py",
   "mimetype": "text/x-python",
   "name": "python",
   "nbconvert_exporter": "python",
   "pygments_lexer": "ipython3",
   "version": "3.12.4"
  }
 },
 "nbformat": 4,
 "nbformat_minor": 5
}
